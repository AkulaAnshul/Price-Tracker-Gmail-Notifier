{
  "nbformat": 4,
  "nbformat_minor": 0,
  "metadata": {
    "colab": {
      "provenance": [],
      "authorship_tag": "ABX9TyMqT58K9qKyQUHdqpOEG+2F",
      "include_colab_link": true
    },
    "kernelspec": {
      "name": "python3",
      "display_name": "Python 3"
    },
    "language_info": {
      "name": "python"
    }
  },
  "cells": [
    {
      "cell_type": "markdown",
      "metadata": {
        "id": "view-in-github",
        "colab_type": "text"
      },
      "source": [
        "<a href=\"https://colab.research.google.com/github/AkulaAnshul/Price-Tracker-Gmail-Notifier/blob/main/Price_Tracker_Gmail_Notifier.ipynb\" target=\"_parent\"><img src=\"https://colab.research.google.com/assets/colab-badge.svg\" alt=\"Open In Colab\"/></a>"
      ]
    },
    {
      "cell_type": "markdown",
      "source": [
        "**Price Tracker**"
      ],
      "metadata": {
        "id": "2ymm4q4fRnxV"
      }
    },
    {
      "cell_type": "code",
      "execution_count": null,
      "metadata": {
        "id": "R3sLRoy8Gm3g"
      },
      "outputs": [],
      "source": [
        "import requests\n",
        "from bs4 import BeautifulSoup\n",
        "import smtplib\n",
        "from email.mime.text import MIMEText\n",
        "import time\n",
        "import re"
      ]
    },
    {
      "cell_type": "code",
      "source": [
        "def get_cost(url):\n",
        "    try:\n",
        "        response = requests.get(url, headers={\n",
        "            'User-Agent': 'Mozilla/5.0 (Windows NT 10.0; Win64; x64) AppleWebKit/537.36 (KHTML, like Gecko) Chrome/130.0.0.0 Safari/537.36',\n",
        "            'Accept': 'text/html,application/xhtml+xml,application/xml;q=0.9,image/webp,image/apng,*/*;q=0.8',\n",
        "            'Accept-Language': 'en-US,en;q=0.9',\n",
        "            'Accept-Encoding': 'gzip, deflate, br',\n",
        "            'Connection': 'keep-alive',\n",
        "            'DNT': '1',\n",
        "            'Cache-Control': 'max-age=0'\n",
        "        })\n",
        "        soup = BeautifulSoup(response.content, 'html.parser')\n",
        "        cost_element = soup.select_one('.a-price-whole')\n",
        "        if cost_element:\n",
        "            cost_text = cost_element.text.strip()\n",
        "            cost_number = re.findall(r'[\\d,]+', cost_text)\n",
        "            if cost_number:\n",
        "                cost = float(cost_number[0].replace(',', ''))\n",
        "                return cost\n",
        "        return None\n",
        "    except Exception as e:\n",
        "        print(f\"Error fetching cost: {e}\")\n",
        "        return None"
      ],
      "metadata": {
        "id": "9jK1zI7OHL0k"
      },
      "execution_count": null,
      "outputs": []
    },
    {
      "cell_type": "code",
      "source": [
        "def send_mail(subject, body, to_email):\n",
        "    mail_user = \"testemailforrandomprojects@gmail.com\"\n",
        "    mail_pass = \"dfzo yoaw ftzu 22ya 57mp whhd n5lg lxje\"\n",
        "    try:\n",
        "        msg = MIMEText(body)\n",
        "        msg['Subject'] = subject\n",
        "        msg['From'] = mail_user\n",
        "        msg['To'] = to_email\n",
        "        server = smtplib.SMTP_SSL('smtp.gmail.com', 465)\n",
        "        server.login(mail_user, mail_pass)\n",
        "        server.send_message(msg)\n",
        "        server.quit()\n",
        "        print('Email sent successfully')\n",
        "    except Exception as e:\n",
        "        print(f\"Error sending email: {e}\")"
      ],
      "metadata": {
        "id": "2sMSr5QGJRk6"
      },
      "execution_count": null,
      "outputs": []
    },
    {
      "cell_type": "code",
      "source": [
        "def track_cost(url, target_cost, check_interval=3600):\n",
        "    while True:\n",
        "        current_cost = get_cost(url)\n",
        "        if current_cost is not None:\n",
        "            print(f\"Current Cost: ₹{current_cost}\")\n",
        "            if current_cost <= target_cost:\n",
        "                subject = \"The product cost has been reduced!\"\n",
        "                body = f\"The cost has dropped to ₹{current_cost}. Check the product here:\\n{url}\"\n",
        "                send_mail(subject, body, 'testmailforrandomprojects@gmail.com')\n",
        "                print(\"Email sent. Exiting...\")\n",
        "                break\n",
        "            else:\n",
        "                print(\"Cost has not been reduced. Checking again later.\")\n",
        "        else:\n",
        "            print(\"Could not retrieve the cost. Trying again...\")\n",
        "        time.sleep(check_interval)"
      ],
      "metadata": {
        "id": "D28KLi76LR_N"
      },
      "execution_count": null,
      "outputs": []
    },
    {
      "cell_type": "code",
      "source": [
        "if __name__ == \"__main__\":\n",
        "    url = \"https://www.amazon.in/Xbox-Wireless-Controller-Robot-White/dp/B08K3GW17S/?_encoding=UTF8&pd_rd_w=xuwwW&content-id=amzn1.sym.509965a2-791b-4055-b876-943397d37ed3%3Aamzn1.symc.fc11ad14-99c1-406b-aa77-051d0ba1aade&pf_rd_p=509965a2-791b-4055-b876-943397d37ed3&pf_rd_r=BDD8J2Y4713VEF75XKJH&pd_rd_wg=MyC1M&pd_rd_r=14d6d50f-b2e0-4db9-8360-ac5331eac536&ref_=pd_hp_d_atf_ci_mcx_mr_ca_hp_atf_d&th=1\"\n",
        "    target_cost = 6000\n",
        "    print(\"The item's cost will now be monitored.\")\n",
        "    track_cost(url, target_cost)"
      ],
      "metadata": {
        "colab": {
          "base_uri": "https://localhost:8080/"
        },
        "id": "_Xu4aPX4TI5o",
        "outputId": "4ba26d57-b444-42ea-a596-75fecc83f526"
      },
      "execution_count": null,
      "outputs": [
        {
          "output_type": "stream",
          "name": "stdout",
          "text": [
            "The item's cost will now be monitored.\n",
            "Current Cost: ₹4999.0\n",
            "Error sending email: (535, b'5.7.8 Username and Password not accepted. For more information, go to\\n5.7.8  https://support.google.com/mail/?p=BadCredentials d9443c01a7336-218a1dccb03sm61607685ad.98 - gsmtp')\n",
            "Email sent. Exiting...\n"
          ]
        }
      ]
    }
  ]
}